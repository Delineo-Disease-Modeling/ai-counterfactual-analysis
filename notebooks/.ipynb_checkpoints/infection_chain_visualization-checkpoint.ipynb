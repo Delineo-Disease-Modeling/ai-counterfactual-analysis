{
 "cells": [
  {
   "cell_type": "code",
   "execution_count": null,
   "id": "3121c2d5",
   "metadata": {},
   "outputs": [],
   "source": [
    "# to generate infection chain graph based on infection_logs.csv \n",
    "\n",
    "import networkx as nx\n",
    "import matplotlib.pyplot as plt\n",
    "import pandas as pd \n",
    "\n",
    "df = pd.read_csv(\"../data/raw/sample/infection_logs.csv\")\n",
    "df.head()"
   ]
  }
 ],
 "metadata": {
  "language_info": {
   "name": "python"
  }
 },
 "nbformat": 4,
 "nbformat_minor": 5
}
